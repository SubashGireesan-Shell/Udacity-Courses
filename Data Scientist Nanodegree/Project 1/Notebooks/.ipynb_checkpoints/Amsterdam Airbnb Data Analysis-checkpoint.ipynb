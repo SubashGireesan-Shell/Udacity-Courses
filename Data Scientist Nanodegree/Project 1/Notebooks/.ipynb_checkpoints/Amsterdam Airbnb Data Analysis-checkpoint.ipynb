{
 "cells": [
  {
   "cell_type": "markdown",
   "id": "a311e913",
   "metadata": {},
   "source": [
    "# Amsterdam Airbnb Data Analysis\n",
    "\n",
    "## Introduction\n",
    "\n",
    "#### In this notebook, we will analyse the latest Amsterdam Airbnb data using the CRISP-DM process and try to gain valuable insights. \n",
    "\n",
    "## Dataset\n",
    "\n",
    "Data Source: http://insideairbnb.com/get-the-data.html\n",
    "\n",
    "Files:\n",
    "\n",
    "- calendar.csv - Detailed calendar data inlcuding the price, availability etc\n",
    "- listings.csv - Detailed description of the listings including price, review scores, location etc\n",
    "- listings_summary.csv - Summary of all the listings in Amsterdam\n",
    "- neighborhoods.csv - List of the neighborhoods in Amsterdam\n",
    "- neighbourhoods.geojson - GeoJSON file of neighbourhoods of Amsterdam\n",
    "- reviews.csv - Detailed reviews for the listings\n",
    "- reviews_summary.csv - Details about listing and the date of review"
   ]
  },
  {
   "cell_type": "markdown",
   "id": "123d707a",
   "metadata": {},
   "source": [
    "## CRISP-DM Process\n"
   ]
  },
  {
   "cell_type": "markdown",
   "id": "9161c9c1",
   "metadata": {},
   "source": [
    "Questions to answer: TO REWORD\n",
    "\n",
    "1) Which area in Amsterdam gives the most profit?\n",
    "\n",
    "2) How to become a Superhost in Amsterdam?\n",
    "\n",
    "3) What are the most important charactersitics that influence price?\n",
    "\n",
    "4) Which time of the year is the most popular in Amsterdam?\n",
    "\n",
    "5) Can I predic the price for a new property?"
   ]
  },
  {
   "cell_type": "markdown",
   "id": "ba8cf847",
   "metadata": {},
   "source": [
    "#### Imports"
   ]
  },
  {
   "cell_type": "code",
   "execution_count": 2,
   "id": "cc5624c1",
   "metadata": {},
   "outputs": [],
   "source": [
    "import numpy as np\n",
    "import pandas as pd\n",
    "import matplotlib.pyplot as plt\n",
    "import seaborn as sns"
   ]
  },
  {
   "cell_type": "code",
   "execution_count": 271,
   "id": "7d119de0",
   "metadata": {},
   "outputs": [],
   "source": [
    "calendar = pd.read_csv('../Data/calendar.csv')\n",
    "listings = pd.read_csv('../Data/listings.csv')\n",
    "listings_summary = pd.read_csv ('../Data/listings_summary.csv')\n",
    "neighborhoods = pd.read_csv('../Data/neighbourhoods.csv')\n",
    "reviews = pd.read_csv('../Data/reviews.csv')\n",
    "reviews_summary = pd.read_csv('../Data/reviews_summary.csv')"
   ]
  },
  {
   "cell_type": "code",
   "execution_count": 272,
   "id": "ecc05c59",
   "metadata": {},
   "outputs": [
    {
     "data": {
      "text/html": [
       "<div>\n",
       "<style scoped>\n",
       "    .dataframe tbody tr th:only-of-type {\n",
       "        vertical-align: middle;\n",
       "    }\n",
       "\n",
       "    .dataframe tbody tr th {\n",
       "        vertical-align: top;\n",
       "    }\n",
       "\n",
       "    .dataframe thead th {\n",
       "        text-align: right;\n",
       "    }\n",
       "</style>\n",
       "<table border=\"1\" class=\"dataframe\">\n",
       "  <thead>\n",
       "    <tr style=\"text-align: right;\">\n",
       "      <th></th>\n",
       "      <th>listing_id</th>\n",
       "      <th>date</th>\n",
       "      <th>available</th>\n",
       "      <th>price</th>\n",
       "      <th>adjusted_price</th>\n",
       "      <th>minimum_nights</th>\n",
       "      <th>maximum_nights</th>\n",
       "    </tr>\n",
       "  </thead>\n",
       "  <tbody>\n",
       "    <tr>\n",
       "      <th>0</th>\n",
       "      <td>2818</td>\n",
       "      <td>2022-09-07</td>\n",
       "      <td>f</td>\n",
       "      <td>$49.00</td>\n",
       "      <td>$49.00</td>\n",
       "      <td>3.0</td>\n",
       "      <td>1125.0</td>\n",
       "    </tr>\n",
       "    <tr>\n",
       "      <th>1</th>\n",
       "      <td>2818</td>\n",
       "      <td>2022-09-08</td>\n",
       "      <td>f</td>\n",
       "      <td>$49.00</td>\n",
       "      <td>$49.00</td>\n",
       "      <td>3.0</td>\n",
       "      <td>1125.0</td>\n",
       "    </tr>\n",
       "    <tr>\n",
       "      <th>2</th>\n",
       "      <td>2818</td>\n",
       "      <td>2022-09-09</td>\n",
       "      <td>f</td>\n",
       "      <td>$49.00</td>\n",
       "      <td>$49.00</td>\n",
       "      <td>3.0</td>\n",
       "      <td>1125.0</td>\n",
       "    </tr>\n",
       "    <tr>\n",
       "      <th>3</th>\n",
       "      <td>2818</td>\n",
       "      <td>2022-09-10</td>\n",
       "      <td>f</td>\n",
       "      <td>$49.00</td>\n",
       "      <td>$49.00</td>\n",
       "      <td>3.0</td>\n",
       "      <td>1125.0</td>\n",
       "    </tr>\n",
       "    <tr>\n",
       "      <th>4</th>\n",
       "      <td>2818</td>\n",
       "      <td>2022-09-11</td>\n",
       "      <td>f</td>\n",
       "      <td>$49.00</td>\n",
       "      <td>$49.00</td>\n",
       "      <td>3.0</td>\n",
       "      <td>1125.0</td>\n",
       "    </tr>\n",
       "  </tbody>\n",
       "</table>\n",
       "</div>"
      ],
      "text/plain": [
       "   listing_id        date available   price adjusted_price  minimum_nights  \\\n",
       "0        2818  2022-09-07         f  $49.00         $49.00             3.0   \n",
       "1        2818  2022-09-08         f  $49.00         $49.00             3.0   \n",
       "2        2818  2022-09-09         f  $49.00         $49.00             3.0   \n",
       "3        2818  2022-09-10         f  $49.00         $49.00             3.0   \n",
       "4        2818  2022-09-11         f  $49.00         $49.00             3.0   \n",
       "\n",
       "   maximum_nights  \n",
       "0          1125.0  \n",
       "1          1125.0  \n",
       "2          1125.0  \n",
       "3          1125.0  \n",
       "4          1125.0  "
      ]
     },
     "execution_count": 272,
     "metadata": {},
     "output_type": "execute_result"
    }
   ],
   "source": [
    "# Checking the dataframes\n",
    "\n",
    "calendar.head(5)"
   ]
  },
  {
   "cell_type": "code",
   "execution_count": 273,
   "id": "d091a0b9",
   "metadata": {},
   "outputs": [
    {
     "data": {
      "text/html": [
       "<div>\n",
       "<style scoped>\n",
       "    .dataframe tbody tr th:only-of-type {\n",
       "        vertical-align: middle;\n",
       "    }\n",
       "\n",
       "    .dataframe tbody tr th {\n",
       "        vertical-align: top;\n",
       "    }\n",
       "\n",
       "    .dataframe thead th {\n",
       "        text-align: right;\n",
       "    }\n",
       "</style>\n",
       "<table border=\"1\" class=\"dataframe\">\n",
       "  <thead>\n",
       "    <tr style=\"text-align: right;\">\n",
       "      <th></th>\n",
       "      <th>id</th>\n",
       "      <th>listing_url</th>\n",
       "      <th>scrape_id</th>\n",
       "      <th>last_scraped</th>\n",
       "      <th>source</th>\n",
       "      <th>name</th>\n",
       "      <th>description</th>\n",
       "      <th>neighborhood_overview</th>\n",
       "      <th>picture_url</th>\n",
       "      <th>host_id</th>\n",
       "      <th>...</th>\n",
       "      <th>review_scores_communication</th>\n",
       "      <th>review_scores_location</th>\n",
       "      <th>review_scores_value</th>\n",
       "      <th>license</th>\n",
       "      <th>instant_bookable</th>\n",
       "      <th>calculated_host_listings_count</th>\n",
       "      <th>calculated_host_listings_count_entire_homes</th>\n",
       "      <th>calculated_host_listings_count_private_rooms</th>\n",
       "      <th>calculated_host_listings_count_shared_rooms</th>\n",
       "      <th>reviews_per_month</th>\n",
       "    </tr>\n",
       "  </thead>\n",
       "  <tbody>\n",
       "    <tr>\n",
       "      <th>0</th>\n",
       "      <td>2818</td>\n",
       "      <td>https://www.airbnb.com/rooms/2818</td>\n",
       "      <td>20220907151523</td>\n",
       "      <td>2022-09-07</td>\n",
       "      <td>city scrape</td>\n",
       "      <td>Quiet Garden View Room &amp; Super Fast WiFi</td>\n",
       "      <td>Quiet Garden View Room &amp; Super Fast WiFi&lt;br /&gt;...</td>\n",
       "      <td>Indische Buurt (\"Indies Neighborhood\") is a ne...</td>\n",
       "      <td>https://a0.muscache.com/pictures/10272854/8dcc...</td>\n",
       "      <td>3159</td>\n",
       "      <td>...</td>\n",
       "      <td>4.98</td>\n",
       "      <td>4.69</td>\n",
       "      <td>4.82</td>\n",
       "      <td>0363 5F3A 5684 6750 D14D</td>\n",
       "      <td>t</td>\n",
       "      <td>1</td>\n",
       "      <td>0</td>\n",
       "      <td>1</td>\n",
       "      <td>0</td>\n",
       "      <td>1.86</td>\n",
       "    </tr>\n",
       "    <tr>\n",
       "      <th>1</th>\n",
       "      <td>20168</td>\n",
       "      <td>https://www.airbnb.com/rooms/20168</td>\n",
       "      <td>20220907151523</td>\n",
       "      <td>2022-09-07</td>\n",
       "      <td>previous scrape</td>\n",
       "      <td>Studio with private bathroom in the centre 1</td>\n",
       "      <td>17th century Dutch townhouse in the heart of t...</td>\n",
       "      <td>Located just in between famous central canals....</td>\n",
       "      <td>https://a0.muscache.com/pictures/69979628/fd6a...</td>\n",
       "      <td>59484</td>\n",
       "      <td>...</td>\n",
       "      <td>4.62</td>\n",
       "      <td>4.87</td>\n",
       "      <td>4.49</td>\n",
       "      <td>0363 CBB3 2C10 0C2A 1E29</td>\n",
       "      <td>t</td>\n",
       "      <td>2</td>\n",
       "      <td>0</td>\n",
       "      <td>2</td>\n",
       "      <td>0</td>\n",
       "      <td>2.22</td>\n",
       "    </tr>\n",
       "    <tr>\n",
       "      <th>2</th>\n",
       "      <td>27886</td>\n",
       "      <td>https://www.airbnb.com/rooms/27886</td>\n",
       "      <td>20220907151523</td>\n",
       "      <td>2022-09-07</td>\n",
       "      <td>city scrape</td>\n",
       "      <td>Romantic, stylish B&amp;B houseboat in canal district</td>\n",
       "      <td>Stylish and romantic houseboat on fantastic hi...</td>\n",
       "      <td>Central, quiet, safe, clean and beautiful.</td>\n",
       "      <td>https://a0.muscache.com/pictures/02c2da9d-660e...</td>\n",
       "      <td>97647</td>\n",
       "      <td>...</td>\n",
       "      <td>4.92</td>\n",
       "      <td>4.89</td>\n",
       "      <td>4.79</td>\n",
       "      <td>0363 974D 4986 7411 88D8</td>\n",
       "      <td>t</td>\n",
       "      <td>1</td>\n",
       "      <td>0</td>\n",
       "      <td>1</td>\n",
       "      <td>0</td>\n",
       "      <td>1.78</td>\n",
       "    </tr>\n",
       "    <tr>\n",
       "      <th>3</th>\n",
       "      <td>28871</td>\n",
       "      <td>https://www.airbnb.com/rooms/28871</td>\n",
       "      <td>20220907151523</td>\n",
       "      <td>2022-09-07</td>\n",
       "      <td>city scrape</td>\n",
       "      <td>Comfortable double room</td>\n",
       "      <td>&lt;b&gt;The space&lt;/b&gt;&lt;br /&gt;In a monumental house ri...</td>\n",
       "      <td>Flower market , Leidseplein , Rembrantsplein</td>\n",
       "      <td>https://a0.muscache.com/pictures/160889/362340...</td>\n",
       "      <td>124245</td>\n",
       "      <td>...</td>\n",
       "      <td>4.94</td>\n",
       "      <td>4.96</td>\n",
       "      <td>4.83</td>\n",
       "      <td>0363 607B EA74 0BD8 2F6F</td>\n",
       "      <td>f</td>\n",
       "      <td>2</td>\n",
       "      <td>0</td>\n",
       "      <td>2</td>\n",
       "      <td>0</td>\n",
       "      <td>2.92</td>\n",
       "    </tr>\n",
       "    <tr>\n",
       "      <th>4</th>\n",
       "      <td>29051</td>\n",
       "      <td>https://www.airbnb.com/rooms/29051</td>\n",
       "      <td>20220907151523</td>\n",
       "      <td>2022-09-07</td>\n",
       "      <td>city scrape</td>\n",
       "      <td>Comfortable single room</td>\n",
       "      <td>This room can also accomodate 2 people.  For a...</td>\n",
       "      <td>the street is quite lively especially on weeke...</td>\n",
       "      <td>https://a0.muscache.com/pictures/162009/bd6be2...</td>\n",
       "      <td>124245</td>\n",
       "      <td>...</td>\n",
       "      <td>4.92</td>\n",
       "      <td>4.87</td>\n",
       "      <td>4.77</td>\n",
       "      <td>0363 607B EA74 0BD8 2F6F</td>\n",
       "      <td>f</td>\n",
       "      <td>2</td>\n",
       "      <td>0</td>\n",
       "      <td>2</td>\n",
       "      <td>0</td>\n",
       "      <td>4.16</td>\n",
       "    </tr>\n",
       "  </tbody>\n",
       "</table>\n",
       "<p>5 rows × 75 columns</p>\n",
       "</div>"
      ],
      "text/plain": [
       "      id                         listing_url       scrape_id last_scraped  \\\n",
       "0   2818   https://www.airbnb.com/rooms/2818  20220907151523   2022-09-07   \n",
       "1  20168  https://www.airbnb.com/rooms/20168  20220907151523   2022-09-07   \n",
       "2  27886  https://www.airbnb.com/rooms/27886  20220907151523   2022-09-07   \n",
       "3  28871  https://www.airbnb.com/rooms/28871  20220907151523   2022-09-07   \n",
       "4  29051  https://www.airbnb.com/rooms/29051  20220907151523   2022-09-07   \n",
       "\n",
       "            source                                               name  \\\n",
       "0      city scrape           Quiet Garden View Room & Super Fast WiFi   \n",
       "1  previous scrape       Studio with private bathroom in the centre 1   \n",
       "2      city scrape  Romantic, stylish B&B houseboat in canal district   \n",
       "3      city scrape                            Comfortable double room   \n",
       "4      city scrape                            Comfortable single room   \n",
       "\n",
       "                                         description  \\\n",
       "0  Quiet Garden View Room & Super Fast WiFi<br />...   \n",
       "1  17th century Dutch townhouse in the heart of t...   \n",
       "2  Stylish and romantic houseboat on fantastic hi...   \n",
       "3  <b>The space</b><br />In a monumental house ri...   \n",
       "4  This room can also accomodate 2 people.  For a...   \n",
       "\n",
       "                               neighborhood_overview  \\\n",
       "0  Indische Buurt (\"Indies Neighborhood\") is a ne...   \n",
       "1  Located just in between famous central canals....   \n",
       "2         Central, quiet, safe, clean and beautiful.   \n",
       "3       Flower market , Leidseplein , Rembrantsplein   \n",
       "4  the street is quite lively especially on weeke...   \n",
       "\n",
       "                                         picture_url  host_id  ...  \\\n",
       "0  https://a0.muscache.com/pictures/10272854/8dcc...     3159  ...   \n",
       "1  https://a0.muscache.com/pictures/69979628/fd6a...    59484  ...   \n",
       "2  https://a0.muscache.com/pictures/02c2da9d-660e...    97647  ...   \n",
       "3  https://a0.muscache.com/pictures/160889/362340...   124245  ...   \n",
       "4  https://a0.muscache.com/pictures/162009/bd6be2...   124245  ...   \n",
       "\n",
       "  review_scores_communication review_scores_location review_scores_value  \\\n",
       "0                        4.98                   4.69                4.82   \n",
       "1                        4.62                   4.87                4.49   \n",
       "2                        4.92                   4.89                4.79   \n",
       "3                        4.94                   4.96                4.83   \n",
       "4                        4.92                   4.87                4.77   \n",
       "\n",
       "                    license instant_bookable calculated_host_listings_count  \\\n",
       "0  0363 5F3A 5684 6750 D14D                t                              1   \n",
       "1  0363 CBB3 2C10 0C2A 1E29                t                              2   \n",
       "2  0363 974D 4986 7411 88D8                t                              1   \n",
       "3  0363 607B EA74 0BD8 2F6F                f                              2   \n",
       "4  0363 607B EA74 0BD8 2F6F                f                              2   \n",
       "\n",
       "  calculated_host_listings_count_entire_homes  \\\n",
       "0                                           0   \n",
       "1                                           0   \n",
       "2                                           0   \n",
       "3                                           0   \n",
       "4                                           0   \n",
       "\n",
       "  calculated_host_listings_count_private_rooms  \\\n",
       "0                                            1   \n",
       "1                                            2   \n",
       "2                                            1   \n",
       "3                                            2   \n",
       "4                                            2   \n",
       "\n",
       "  calculated_host_listings_count_shared_rooms reviews_per_month  \n",
       "0                                           0              1.86  \n",
       "1                                           0              2.22  \n",
       "2                                           0              1.78  \n",
       "3                                           0              2.92  \n",
       "4                                           0              4.16  \n",
       "\n",
       "[5 rows x 75 columns]"
      ]
     },
     "execution_count": 273,
     "metadata": {},
     "output_type": "execute_result"
    }
   ],
   "source": [
    "listings.head(5)"
   ]
  },
  {
   "cell_type": "code",
   "execution_count": 274,
   "id": "a95dd56a",
   "metadata": {},
   "outputs": [
    {
     "data": {
      "text/html": [
       "<div>\n",
       "<style scoped>\n",
       "    .dataframe tbody tr th:only-of-type {\n",
       "        vertical-align: middle;\n",
       "    }\n",
       "\n",
       "    .dataframe tbody tr th {\n",
       "        vertical-align: top;\n",
       "    }\n",
       "\n",
       "    .dataframe thead th {\n",
       "        text-align: right;\n",
       "    }\n",
       "</style>\n",
       "<table border=\"1\" class=\"dataframe\">\n",
       "  <thead>\n",
       "    <tr style=\"text-align: right;\">\n",
       "      <th></th>\n",
       "      <th>neighbourhood_group</th>\n",
       "      <th>neighbourhood</th>\n",
       "    </tr>\n",
       "  </thead>\n",
       "  <tbody>\n",
       "    <tr>\n",
       "      <th>0</th>\n",
       "      <td>NaN</td>\n",
       "      <td>Bijlmer-Centrum</td>\n",
       "    </tr>\n",
       "    <tr>\n",
       "      <th>1</th>\n",
       "      <td>NaN</td>\n",
       "      <td>Bijlmer-Oost</td>\n",
       "    </tr>\n",
       "    <tr>\n",
       "      <th>2</th>\n",
       "      <td>NaN</td>\n",
       "      <td>Bos en Lommer</td>\n",
       "    </tr>\n",
       "    <tr>\n",
       "      <th>3</th>\n",
       "      <td>NaN</td>\n",
       "      <td>Buitenveldert - Zuidas</td>\n",
       "    </tr>\n",
       "    <tr>\n",
       "      <th>4</th>\n",
       "      <td>NaN</td>\n",
       "      <td>Centrum-Oost</td>\n",
       "    </tr>\n",
       "  </tbody>\n",
       "</table>\n",
       "</div>"
      ],
      "text/plain": [
       "   neighbourhood_group           neighbourhood\n",
       "0                  NaN         Bijlmer-Centrum\n",
       "1                  NaN            Bijlmer-Oost\n",
       "2                  NaN           Bos en Lommer\n",
       "3                  NaN  Buitenveldert - Zuidas\n",
       "4                  NaN            Centrum-Oost"
      ]
     },
     "execution_count": 274,
     "metadata": {},
     "output_type": "execute_result"
    }
   ],
   "source": [
    "neighborhoods.head(5)"
   ]
  },
  {
   "cell_type": "code",
   "execution_count": 275,
   "id": "674875ee",
   "metadata": {},
   "outputs": [
    {
     "data": {
      "text/html": [
       "<div>\n",
       "<style scoped>\n",
       "    .dataframe tbody tr th:only-of-type {\n",
       "        vertical-align: middle;\n",
       "    }\n",
       "\n",
       "    .dataframe tbody tr th {\n",
       "        vertical-align: top;\n",
       "    }\n",
       "\n",
       "    .dataframe thead th {\n",
       "        text-align: right;\n",
       "    }\n",
       "</style>\n",
       "<table border=\"1\" class=\"dataframe\">\n",
       "  <thead>\n",
       "    <tr style=\"text-align: right;\">\n",
       "      <th></th>\n",
       "      <th>listing_id</th>\n",
       "      <th>id</th>\n",
       "      <th>date</th>\n",
       "      <th>reviewer_id</th>\n",
       "      <th>reviewer_name</th>\n",
       "      <th>comments</th>\n",
       "    </tr>\n",
       "  </thead>\n",
       "  <tbody>\n",
       "    <tr>\n",
       "      <th>0</th>\n",
       "      <td>2818</td>\n",
       "      <td>1191</td>\n",
       "      <td>2009-03-30</td>\n",
       "      <td>10952</td>\n",
       "      <td>Lam</td>\n",
       "      <td>Daniel is really cool. The place was nice and ...</td>\n",
       "    </tr>\n",
       "    <tr>\n",
       "      <th>1</th>\n",
       "      <td>515749</td>\n",
       "      <td>1671407</td>\n",
       "      <td>2012-07-09</td>\n",
       "      <td>2640670</td>\n",
       "      <td>Gregory</td>\n",
       "      <td>If you want the authentic Amsterdam houseboat ...</td>\n",
       "    </tr>\n",
       "    <tr>\n",
       "      <th>2</th>\n",
       "      <td>515749</td>\n",
       "      <td>1715674</td>\n",
       "      <td>2012-07-15</td>\n",
       "      <td>1032804</td>\n",
       "      <td>Michael</td>\n",
       "      <td>Unique and luxurious to be sure. I couldn't re...</td>\n",
       "    </tr>\n",
       "    <tr>\n",
       "      <th>3</th>\n",
       "      <td>2818</td>\n",
       "      <td>1771</td>\n",
       "      <td>2009-04-24</td>\n",
       "      <td>12798</td>\n",
       "      <td>Alice</td>\n",
       "      <td>Daniel is the most amazing host! His place is ...</td>\n",
       "    </tr>\n",
       "    <tr>\n",
       "      <th>4</th>\n",
       "      <td>515749</td>\n",
       "      <td>1963378</td>\n",
       "      <td>2012-08-12</td>\n",
       "      <td>503786</td>\n",
       "      <td>Brian</td>\n",
       "      <td>My wife and I recently stopped in Amsterdam fo...</td>\n",
       "    </tr>\n",
       "  </tbody>\n",
       "</table>\n",
       "</div>"
      ],
      "text/plain": [
       "   listing_id       id        date  reviewer_id reviewer_name  \\\n",
       "0        2818     1191  2009-03-30        10952           Lam   \n",
       "1      515749  1671407  2012-07-09      2640670       Gregory   \n",
       "2      515749  1715674  2012-07-15      1032804       Michael   \n",
       "3        2818     1771  2009-04-24        12798         Alice   \n",
       "4      515749  1963378  2012-08-12       503786         Brian   \n",
       "\n",
       "                                            comments  \n",
       "0  Daniel is really cool. The place was nice and ...  \n",
       "1  If you want the authentic Amsterdam houseboat ...  \n",
       "2  Unique and luxurious to be sure. I couldn't re...  \n",
       "3  Daniel is the most amazing host! His place is ...  \n",
       "4  My wife and I recently stopped in Amsterdam fo...  "
      ]
     },
     "execution_count": 275,
     "metadata": {},
     "output_type": "execute_result"
    }
   ],
   "source": [
    "reviews.head(5)"
   ]
  },
  {
   "cell_type": "markdown",
   "id": "00c3fc6b",
   "metadata": {},
   "source": [
    "A few observations:\n",
    "\n",
    "1) listing_id seems to be the common link in all the dataframes. This column can be used as an index for easier analysis. \n",
    "\n",
    "2) There are a mixture of datatypes - int, float, objects, strings, dates etc. Further checks needs to be done for proper datatype conversion. \n",
    "\n",
    "3) Neighborhoods dataframe is just a list of dataframe and does not require further analysis. \n"
   ]
  },
  {
   "cell_type": "code",
   "execution_count": 276,
   "id": "801d110a",
   "metadata": {},
   "outputs": [
    {
     "data": {
      "text/plain": [
       "(2515211, 7)"
      ]
     },
     "execution_count": 276,
     "metadata": {},
     "output_type": "execute_result"
    }
   ],
   "source": [
    "# Shape of the dataframes\n",
    "\n",
    "calendar.shape"
   ]
  },
  {
   "cell_type": "code",
   "execution_count": 277,
   "id": "409f1007",
   "metadata": {},
   "outputs": [
    {
     "data": {
      "text/plain": [
       "(6893, 75)"
      ]
     },
     "execution_count": 277,
     "metadata": {},
     "output_type": "execute_result"
    }
   ],
   "source": [
    "listings.shape"
   ]
  },
  {
   "cell_type": "code",
   "execution_count": 278,
   "id": "f1a012dc",
   "metadata": {},
   "outputs": [
    {
     "data": {
      "text/plain": [
       "(22, 2)"
      ]
     },
     "execution_count": 278,
     "metadata": {},
     "output_type": "execute_result"
    }
   ],
   "source": [
    "neighborhoods.shape"
   ]
  },
  {
   "cell_type": "code",
   "execution_count": 279,
   "id": "3c0279ca",
   "metadata": {
    "scrolled": false
   },
   "outputs": [
    {
     "data": {
      "text/plain": [
       "(342904, 6)"
      ]
     },
     "execution_count": 279,
     "metadata": {},
     "output_type": "execute_result"
    }
   ],
   "source": [
    "reviews.shape"
   ]
  },
  {
   "cell_type": "markdown",
   "id": "def407f3",
   "metadata": {},
   "source": [
    "A few observations:\n",
    "\n",
    "1) The size of the dataframes are different. \n",
    "\n",
    "2) The listings dataframe seems to be the most data intense\n",
    "\n",
    "3) There are 22 neighborhoods in Amsterdam"
   ]
  },
  {
   "cell_type": "code",
   "execution_count": 280,
   "id": "e5d76331",
   "metadata": {},
   "outputs": [
    {
     "name": "stdout",
     "output_type": "stream",
     "text": [
      "<class 'pandas.core.frame.DataFrame'>\n",
      "RangeIndex: 2515211 entries, 0 to 2515210\n",
      "Data columns (total 7 columns):\n",
      " #   Column          Dtype  \n",
      "---  ------          -----  \n",
      " 0   listing_id      int64  \n",
      " 1   date            object \n",
      " 2   available       object \n",
      " 3   price           object \n",
      " 4   adjusted_price  object \n",
      " 5   minimum_nights  float64\n",
      " 6   maximum_nights  float64\n",
      "dtypes: float64(2), int64(1), object(4)\n",
      "memory usage: 134.3+ MB\n"
     ]
    }
   ],
   "source": [
    "# Info about the datatypes\n",
    "\n",
    "calendar.info()"
   ]
  },
  {
   "cell_type": "code",
   "execution_count": 281,
   "id": "6588d945",
   "metadata": {},
   "outputs": [
    {
     "name": "stdout",
     "output_type": "stream",
     "text": [
      "<class 'pandas.core.frame.DataFrame'>\n",
      "RangeIndex: 6893 entries, 0 to 6892\n",
      "Data columns (total 75 columns):\n",
      " #   Column                                        Non-Null Count  Dtype  \n",
      "---  ------                                        --------------  -----  \n",
      " 0   id                                            6893 non-null   int64  \n",
      " 1   listing_url                                   6893 non-null   object \n",
      " 2   scrape_id                                     6893 non-null   int64  \n",
      " 3   last_scraped                                  6893 non-null   object \n",
      " 4   source                                        6893 non-null   object \n",
      " 5   name                                          6893 non-null   object \n",
      " 6   description                                   6877 non-null   object \n",
      " 7   neighborhood_overview                         4628 non-null   object \n",
      " 8   picture_url                                   6893 non-null   object \n",
      " 9   host_id                                       6893 non-null   int64  \n",
      " 10  host_url                                      6893 non-null   object \n",
      " 11  host_name                                     6893 non-null   object \n",
      " 12  host_since                                    6893 non-null   object \n",
      " 13  host_location                                 6122 non-null   object \n",
      " 14  host_about                                    4132 non-null   object \n",
      " 15  host_response_time                            5236 non-null   object \n",
      " 16  host_response_rate                            5236 non-null   object \n",
      " 17  host_acceptance_rate                          6031 non-null   object \n",
      " 18  host_is_superhost                             6885 non-null   object \n",
      " 19  host_thumbnail_url                            6893 non-null   object \n",
      " 20  host_picture_url                              6893 non-null   object \n",
      " 21  host_neighbourhood                            3096 non-null   object \n",
      " 22  host_listings_count                           6893 non-null   int64  \n",
      " 23  host_total_listings_count                     6893 non-null   int64  \n",
      " 24  host_verifications                            6893 non-null   object \n",
      " 25  host_has_profile_pic                          6893 non-null   object \n",
      " 26  host_identity_verified                        6893 non-null   object \n",
      " 27  neighbourhood                                 4628 non-null   object \n",
      " 28  neighbourhood_cleansed                        6893 non-null   object \n",
      " 29  neighbourhood_group_cleansed                  0 non-null      float64\n",
      " 30  latitude                                      6893 non-null   float64\n",
      " 31  longitude                                     6893 non-null   float64\n",
      " 32  property_type                                 6893 non-null   object \n",
      " 33  room_type                                     6893 non-null   object \n",
      " 34  accommodates                                  6893 non-null   int64  \n",
      " 35  bathrooms                                     0 non-null      float64\n",
      " 36  bathrooms_text                                6878 non-null   object \n",
      " 37  bedrooms                                      6578 non-null   float64\n",
      " 38  beds                                          6792 non-null   float64\n",
      " 39  amenities                                     6893 non-null   object \n",
      " 40  price                                         6893 non-null   object \n",
      " 41  minimum_nights                                6893 non-null   int64  \n",
      " 42  maximum_nights                                6893 non-null   int64  \n",
      " 43  minimum_minimum_nights                        6891 non-null   float64\n",
      " 44  maximum_minimum_nights                        6891 non-null   float64\n",
      " 45  minimum_maximum_nights                        6891 non-null   float64\n",
      " 46  maximum_maximum_nights                        6891 non-null   float64\n",
      " 47  minimum_nights_avg_ntm                        6891 non-null   float64\n",
      " 48  maximum_nights_avg_ntm                        6891 non-null   float64\n",
      " 49  calendar_updated                              0 non-null      float64\n",
      " 50  has_availability                              6893 non-null   object \n",
      " 51  availability_30                               6893 non-null   int64  \n",
      " 52  availability_60                               6893 non-null   int64  \n",
      " 53  availability_90                               6893 non-null   int64  \n",
      " 54  availability_365                              6893 non-null   int64  \n",
      " 55  calendar_last_scraped                         6893 non-null   object \n",
      " 56  number_of_reviews                             6893 non-null   int64  \n",
      " 57  number_of_reviews_ltm                         6893 non-null   int64  \n",
      " 58  number_of_reviews_l30d                        6893 non-null   int64  \n",
      " 59  first_review                                  6247 non-null   object \n",
      " 60  last_review                                   6247 non-null   object \n",
      " 61  review_scores_rating                          6247 non-null   float64\n",
      " 62  review_scores_accuracy                        6242 non-null   float64\n",
      " 63  review_scores_cleanliness                     6242 non-null   float64\n",
      " 64  review_scores_checkin                         6242 non-null   float64\n",
      " 65  review_scores_communication                   6242 non-null   float64\n",
      " 66  review_scores_location                        6242 non-null   float64\n",
      " 67  review_scores_value                           6242 non-null   float64\n",
      " 68  license                                       6449 non-null   object \n",
      " 69  instant_bookable                              6893 non-null   object \n",
      " 70  calculated_host_listings_count                6893 non-null   int64  \n",
      " 71  calculated_host_listings_count_entire_homes   6893 non-null   int64  \n",
      " 72  calculated_host_listings_count_private_rooms  6893 non-null   int64  \n",
      " 73  calculated_host_listings_count_shared_rooms   6893 non-null   int64  \n",
      " 74  reviews_per_month                             6247 non-null   float64\n",
      "dtypes: float64(21), int64(19), object(35)\n",
      "memory usage: 3.9+ MB\n"
     ]
    }
   ],
   "source": [
    "listings.info()"
   ]
  },
  {
   "cell_type": "code",
   "execution_count": 282,
   "id": "9001bebd",
   "metadata": {},
   "outputs": [
    {
     "name": "stdout",
     "output_type": "stream",
     "text": [
      "<class 'pandas.core.frame.DataFrame'>\n",
      "RangeIndex: 342904 entries, 0 to 342903\n",
      "Data columns (total 6 columns):\n",
      " #   Column         Non-Null Count   Dtype \n",
      "---  ------         --------------   ----- \n",
      " 0   listing_id     342904 non-null  int64 \n",
      " 1   id             342904 non-null  int64 \n",
      " 2   date           342904 non-null  object\n",
      " 3   reviewer_id    342904 non-null  int64 \n",
      " 4   reviewer_name  342904 non-null  object\n",
      " 5   comments       342890 non-null  object\n",
      "dtypes: int64(3), object(3)\n",
      "memory usage: 15.7+ MB\n"
     ]
    }
   ],
   "source": [
    "reviews.info()"
   ]
  },
  {
   "cell_type": "code",
   "execution_count": 283,
   "id": "fa6abb1c",
   "metadata": {},
   "outputs": [
    {
     "data": {
      "text/plain": [
       "Index(['date', 'available', 'price', 'adjusted_price'], dtype='object')"
      ]
     },
     "execution_count": 283,
     "metadata": {},
     "output_type": "execute_result"
    }
   ],
   "source": [
    "# Checking object types\n",
    "\n",
    "calendar.select_dtypes(include='object').columns"
   ]
  },
  {
   "cell_type": "code",
   "execution_count": 284,
   "id": "cb3b5637",
   "metadata": {},
   "outputs": [
    {
     "data": {
      "text/plain": [
       "Index(['listing_url', 'last_scraped', 'source', 'name', 'description',\n",
       "       'neighborhood_overview', 'picture_url', 'host_url', 'host_name',\n",
       "       'host_since', 'host_location', 'host_about', 'host_response_time',\n",
       "       'host_response_rate', 'host_acceptance_rate', 'host_is_superhost',\n",
       "       'host_thumbnail_url', 'host_picture_url', 'host_neighbourhood',\n",
       "       'host_verifications', 'host_has_profile_pic', 'host_identity_verified',\n",
       "       'neighbourhood', 'neighbourhood_cleansed', 'property_type', 'room_type',\n",
       "       'bathrooms_text', 'amenities', 'price', 'has_availability',\n",
       "       'calendar_last_scraped', 'first_review', 'last_review', 'license',\n",
       "       'instant_bookable'],\n",
       "      dtype='object')"
      ]
     },
     "execution_count": 284,
     "metadata": {},
     "output_type": "execute_result"
    }
   ],
   "source": [
    "listings.select_dtypes(include='object').columns"
   ]
  },
  {
   "cell_type": "code",
   "execution_count": 285,
   "id": "ccde86f7",
   "metadata": {},
   "outputs": [
    {
     "data": {
      "text/plain": [
       "Index(['date', 'reviewer_name', 'comments'], dtype='object')"
      ]
     },
     "execution_count": 285,
     "metadata": {},
     "output_type": "execute_result"
    }
   ],
   "source": [
    "reviews.select_dtypes(include='object').columns"
   ]
  },
  {
   "cell_type": "code",
   "execution_count": 286,
   "id": "6a0699be",
   "metadata": {},
   "outputs": [
    {
     "data": {
      "text/plain": [
       "Index(['listing_id', 'minimum_nights', 'maximum_nights'], dtype='object')"
      ]
     },
     "execution_count": 286,
     "metadata": {},
     "output_type": "execute_result"
    }
   ],
   "source": [
    "# Checking numerical datatypes\n",
    "\n",
    "calendar.select_dtypes(include=['int64', 'float64']).columns"
   ]
  },
  {
   "cell_type": "code",
   "execution_count": 287,
   "id": "3db0690b",
   "metadata": {},
   "outputs": [
    {
     "data": {
      "text/plain": [
       "Index(['id', 'scrape_id', 'host_id', 'host_listings_count',\n",
       "       'host_total_listings_count', 'neighbourhood_group_cleansed', 'latitude',\n",
       "       'longitude', 'accommodates', 'bathrooms', 'bedrooms', 'beds',\n",
       "       'minimum_nights', 'maximum_nights', 'minimum_minimum_nights',\n",
       "       'maximum_minimum_nights', 'minimum_maximum_nights',\n",
       "       'maximum_maximum_nights', 'minimum_nights_avg_ntm',\n",
       "       'maximum_nights_avg_ntm', 'calendar_updated', 'availability_30',\n",
       "       'availability_60', 'availability_90', 'availability_365',\n",
       "       'number_of_reviews', 'number_of_reviews_ltm', 'number_of_reviews_l30d',\n",
       "       'review_scores_rating', 'review_scores_accuracy',\n",
       "       'review_scores_cleanliness', 'review_scores_checkin',\n",
       "       'review_scores_communication', 'review_scores_location',\n",
       "       'review_scores_value', 'calculated_host_listings_count',\n",
       "       'calculated_host_listings_count_entire_homes',\n",
       "       'calculated_host_listings_count_private_rooms',\n",
       "       'calculated_host_listings_count_shared_rooms', 'reviews_per_month'],\n",
       "      dtype='object')"
      ]
     },
     "execution_count": 287,
     "metadata": {},
     "output_type": "execute_result"
    }
   ],
   "source": [
    "listings.select_dtypes(include=['int64', 'float64']).columns"
   ]
  },
  {
   "cell_type": "code",
   "execution_count": 288,
   "id": "0c134ec2",
   "metadata": {},
   "outputs": [
    {
     "data": {
      "text/plain": [
       "Index(['listing_id', 'id', 'reviewer_id'], dtype='object')"
      ]
     },
     "execution_count": 288,
     "metadata": {},
     "output_type": "execute_result"
    }
   ],
   "source": [
    "reviews.select_dtypes(include=['int64', 'float64']).columns"
   ]
  },
  {
   "cell_type": "markdown",
   "id": "25bb19a7",
   "metadata": {},
   "source": [
    "A few observations:\n",
    "\n",
    "1) There are a lot of columns that may not be useful for us to answer the particular question posed earlier and can be removed. \n",
    "\n",
    "2) Convert object datatypes of specific columns to approapriate datatypes\n",
    "\n",
    "3) The price column will have to be converted to float. \n",
    "\n",
    "4) The date column will have to be converted to datetime. \n",
    "\n",
    "5) Replace columns with 't/f' to bool.\n",
    "\n",
    "These steps will be done in the 'Data Preparation' step of the CRISP-DM process. "
   ]
  },
  {
   "cell_type": "markdown",
   "id": "a7a32367",
   "metadata": {},
   "source": [
    "## Data Preparation"
   ]
  },
  {
   "cell_type": "markdown",
   "id": "b1720ff9",
   "metadata": {},
   "source": [
    "#### 1) Checking missing values"
   ]
  },
  {
   "cell_type": "code",
   "execution_count": 289,
   "id": "2f76e4e3",
   "metadata": {},
   "outputs": [],
   "source": [
    "# Find columns with missing values\n",
    "\n",
    "def find_missing_cols(df):\n",
    "    print(df.columns[df.isnull().sum()>0])"
   ]
  },
  {
   "cell_type": "code",
   "execution_count": 290,
   "id": "118446ad",
   "metadata": {},
   "outputs": [
    {
     "name": "stdout",
     "output_type": "stream",
     "text": [
      "Index(['price', 'adjusted_price', 'minimum_nights', 'maximum_nights'], dtype='object')\n"
     ]
    }
   ],
   "source": [
    "find_missing_cols(calendar)"
   ]
  },
  {
   "cell_type": "code",
   "execution_count": 291,
   "id": "d9c62cca",
   "metadata": {},
   "outputs": [
    {
     "name": "stdout",
     "output_type": "stream",
     "text": [
      "Index(['description', 'neighborhood_overview', 'host_location', 'host_about',\n",
      "       'host_response_time', 'host_response_rate', 'host_acceptance_rate',\n",
      "       'host_is_superhost', 'host_neighbourhood', 'neighbourhood',\n",
      "       'neighbourhood_group_cleansed', 'bathrooms', 'bathrooms_text',\n",
      "       'bedrooms', 'beds', 'minimum_minimum_nights', 'maximum_minimum_nights',\n",
      "       'minimum_maximum_nights', 'maximum_maximum_nights',\n",
      "       'minimum_nights_avg_ntm', 'maximum_nights_avg_ntm', 'calendar_updated',\n",
      "       'first_review', 'last_review', 'review_scores_rating',\n",
      "       'review_scores_accuracy', 'review_scores_cleanliness',\n",
      "       'review_scores_checkin', 'review_scores_communication',\n",
      "       'review_scores_location', 'review_scores_value', 'license',\n",
      "       'reviews_per_month'],\n",
      "      dtype='object')\n"
     ]
    }
   ],
   "source": [
    "find_missing_cols(listings)"
   ]
  },
  {
   "cell_type": "code",
   "execution_count": 292,
   "id": "7c436ab9",
   "metadata": {},
   "outputs": [
    {
     "name": "stdout",
     "output_type": "stream",
     "text": [
      "Index(['comments'], dtype='object')\n"
     ]
    }
   ],
   "source": [
    "find_missing_cols(reviews)"
   ]
  },
  {
   "cell_type": "code",
   "execution_count": 293,
   "id": "5eb8a971",
   "metadata": {},
   "outputs": [],
   "source": [
    "# Find columns with percentage of missing values above a certain value\n",
    "\n",
    "def find_missing_cols_perc(df, perc):\n",
    "    print(df.columns[df.isnull().mean() > perc])"
   ]
  },
  {
   "cell_type": "code",
   "execution_count": 294,
   "id": "6656350e",
   "metadata": {},
   "outputs": [
    {
     "name": "stdout",
     "output_type": "stream",
     "text": [
      "Index([], dtype='object')\n"
     ]
    }
   ],
   "source": [
    "find_missing_cols_perc(calendar, 0.5)"
   ]
  },
  {
   "cell_type": "code",
   "execution_count": 295,
   "id": "622579c2",
   "metadata": {},
   "outputs": [
    {
     "name": "stdout",
     "output_type": "stream",
     "text": [
      "Index(['host_neighbourhood', 'neighbourhood_group_cleansed', 'bathrooms',\n",
      "       'calendar_updated'],\n",
      "      dtype='object')\n"
     ]
    }
   ],
   "source": [
    "find_missing_cols_perc(listings, 0.5)"
   ]
  },
  {
   "cell_type": "code",
   "execution_count": 296,
   "id": "8795a92f",
   "metadata": {},
   "outputs": [
    {
     "name": "stdout",
     "output_type": "stream",
     "text": [
      "Index([], dtype='object')\n"
     ]
    }
   ],
   "source": [
    "find_missing_cols_perc(reviews, 0.5)"
   ]
  },
  {
   "cell_type": "markdown",
   "id": "843d0927",
   "metadata": {},
   "source": [
    "In the listings dataframe, 4 columns ('host_neighbourhood', 'neighbourhood_group_cleansed', 'bathrooms', 'calendar_updated') have more than 50% missing values. Let's check the percentage of missing values in these columns. "
   ]
  },
  {
   "cell_type": "code",
   "execution_count": 297,
   "id": "af1290e7",
   "metadata": {},
   "outputs": [
    {
     "name": "stdout",
     "output_type": "stream",
     "text": [
      "Percentage of missing values in host_neighbourhood: 0.550848687073843\n",
      "Percentage of missing values in neighbourhood_group_cleansed: 1.0\n",
      "Percentage of missing values in bathrooms: 1.0\n",
      "Percentage of missing values in calendar_updated: 1.0\n"
     ]
    }
   ],
   "source": [
    "cols = ['host_neighbourhood', 'neighbourhood_group_cleansed', 'bathrooms', 'calendar_updated']\n",
    "\n",
    "for col in cols:\n",
    "    print('Percentage of missing values in {}: {}'.format(col, listings[col].isnull().mean()))"
   ]
  },
  {
   "cell_type": "markdown",
   "id": "28c6ce26",
   "metadata": {},
   "source": [
    "As seen above, 3 columns have 100% missing values. These columns could be important for our analysis, especially neighborhood and number of bathrooms in a particular listing. Let's see if we can find any alternatives for these columns. "
   ]
  },
  {
   "cell_type": "code",
   "execution_count": 298,
   "id": "ec24322f",
   "metadata": {},
   "outputs": [
    {
     "data": {
      "text/plain": [
       "['neighborhood_overview',\n",
       " 'host_neighbourhood',\n",
       " 'neighbourhood',\n",
       " 'neighbourhood_cleansed',\n",
       " 'neighbourhood_group_cleansed']"
      ]
     },
     "execution_count": 298,
     "metadata": {},
     "output_type": "execute_result"
    }
   ],
   "source": [
    "# Looking for other columns with 'neigh' in the name\n",
    "\n",
    "[col for col in listings.columns if 'neigh' in col]"
   ]
  },
  {
   "cell_type": "code",
   "execution_count": 299,
   "id": "f6094a98",
   "metadata": {},
   "outputs": [
    {
     "data": {
      "text/html": [
       "<div>\n",
       "<style scoped>\n",
       "    .dataframe tbody tr th:only-of-type {\n",
       "        vertical-align: middle;\n",
       "    }\n",
       "\n",
       "    .dataframe tbody tr th {\n",
       "        vertical-align: top;\n",
       "    }\n",
       "\n",
       "    .dataframe thead th {\n",
       "        text-align: right;\n",
       "    }\n",
       "</style>\n",
       "<table border=\"1\" class=\"dataframe\">\n",
       "  <thead>\n",
       "    <tr style=\"text-align: right;\">\n",
       "      <th></th>\n",
       "      <th>neighborhood_overview</th>\n",
       "      <th>host_neighbourhood</th>\n",
       "      <th>neighbourhood</th>\n",
       "      <th>neighbourhood_cleansed</th>\n",
       "      <th>neighbourhood_group_cleansed</th>\n",
       "    </tr>\n",
       "  </thead>\n",
       "  <tbody>\n",
       "    <tr>\n",
       "      <th>0</th>\n",
       "      <td>Indische Buurt (\"Indies Neighborhood\") is a ne...</td>\n",
       "      <td>Indische Buurt</td>\n",
       "      <td>Amsterdam, North Holland, Netherlands</td>\n",
       "      <td>Oostelijk Havengebied - Indische Buurt</td>\n",
       "      <td>NaN</td>\n",
       "    </tr>\n",
       "    <tr>\n",
       "      <th>1</th>\n",
       "      <td>Located just in between famous central canals....</td>\n",
       "      <td>Grachtengordel</td>\n",
       "      <td>Amsterdam, North Holland, Netherlands</td>\n",
       "      <td>Centrum-Oost</td>\n",
       "      <td>NaN</td>\n",
       "    </tr>\n",
       "    <tr>\n",
       "      <th>2</th>\n",
       "      <td>Central, quiet, safe, clean and beautiful.</td>\n",
       "      <td>Westelijke Eilanden</td>\n",
       "      <td>Amsterdam, North Holland, Netherlands</td>\n",
       "      <td>Centrum-West</td>\n",
       "      <td>NaN</td>\n",
       "    </tr>\n",
       "    <tr>\n",
       "      <th>3</th>\n",
       "      <td>Flower market , Leidseplein , Rembrantsplein</td>\n",
       "      <td>Amsterdam Centrum</td>\n",
       "      <td>Amsterdam, North Holland, Netherlands</td>\n",
       "      <td>Centrum-West</td>\n",
       "      <td>NaN</td>\n",
       "    </tr>\n",
       "    <tr>\n",
       "      <th>4</th>\n",
       "      <td>the street is quite lively especially on weeke...</td>\n",
       "      <td>Amsterdam Centrum</td>\n",
       "      <td>Amsterdam, North Holland, Netherlands</td>\n",
       "      <td>Centrum-Oost</td>\n",
       "      <td>NaN</td>\n",
       "    </tr>\n",
       "    <tr>\n",
       "      <th>5</th>\n",
       "      <td>The appartment is located in the city centre. ...</td>\n",
       "      <td>Oostelijke Eilanden en Kadijken</td>\n",
       "      <td>Amsterdam, Noord-Holland, Netherlands</td>\n",
       "      <td>Centrum-Oost</td>\n",
       "      <td>NaN</td>\n",
       "    </tr>\n",
       "    <tr>\n",
       "      <th>6</th>\n",
       "      <td>You will find yourself in a quiet side street ...</td>\n",
       "      <td>Grachtengordel</td>\n",
       "      <td>Amsterdam, North Holland, Netherlands</td>\n",
       "      <td>Centrum-West</td>\n",
       "      <td>NaN</td>\n",
       "    </tr>\n",
       "    <tr>\n",
       "      <th>7</th>\n",
       "      <td>NaN</td>\n",
       "      <td>Grachtengordel</td>\n",
       "      <td>NaN</td>\n",
       "      <td>Centrum-West</td>\n",
       "      <td>NaN</td>\n",
       "    </tr>\n",
       "    <tr>\n",
       "      <th>8</th>\n",
       "      <td>The apartment is situated in a small, quiet, o...</td>\n",
       "      <td>Grachtengordel</td>\n",
       "      <td>Amsterdam, North Holland, Netherlands</td>\n",
       "      <td>Centrum-Oost</td>\n",
       "      <td>NaN</td>\n",
       "    </tr>\n",
       "    <tr>\n",
       "      <th>9</th>\n",
       "      <td>Our neighborhood is very central, but also qui...</td>\n",
       "      <td>Museumkwartier</td>\n",
       "      <td>Amsterdam, North Holland, Netherlands</td>\n",
       "      <td>Zuid</td>\n",
       "      <td>NaN</td>\n",
       "    </tr>\n",
       "  </tbody>\n",
       "</table>\n",
       "</div>"
      ],
      "text/plain": [
       "                               neighborhood_overview  \\\n",
       "0  Indische Buurt (\"Indies Neighborhood\") is a ne...   \n",
       "1  Located just in between famous central canals....   \n",
       "2         Central, quiet, safe, clean and beautiful.   \n",
       "3       Flower market , Leidseplein , Rembrantsplein   \n",
       "4  the street is quite lively especially on weeke...   \n",
       "5  The appartment is located in the city centre. ...   \n",
       "6  You will find yourself in a quiet side street ...   \n",
       "7                                                NaN   \n",
       "8  The apartment is situated in a small, quiet, o...   \n",
       "9  Our neighborhood is very central, but also qui...   \n",
       "\n",
       "                host_neighbourhood                          neighbourhood  \\\n",
       "0                   Indische Buurt  Amsterdam, North Holland, Netherlands   \n",
       "1                   Grachtengordel  Amsterdam, North Holland, Netherlands   \n",
       "2              Westelijke Eilanden  Amsterdam, North Holland, Netherlands   \n",
       "3                Amsterdam Centrum  Amsterdam, North Holland, Netherlands   \n",
       "4                Amsterdam Centrum  Amsterdam, North Holland, Netherlands   \n",
       "5  Oostelijke Eilanden en Kadijken  Amsterdam, Noord-Holland, Netherlands   \n",
       "6                   Grachtengordel  Amsterdam, North Holland, Netherlands   \n",
       "7                   Grachtengordel                                    NaN   \n",
       "8                   Grachtengordel  Amsterdam, North Holland, Netherlands   \n",
       "9                   Museumkwartier  Amsterdam, North Holland, Netherlands   \n",
       "\n",
       "                   neighbourhood_cleansed  neighbourhood_group_cleansed  \n",
       "0  Oostelijk Havengebied - Indische Buurt                           NaN  \n",
       "1                            Centrum-Oost                           NaN  \n",
       "2                            Centrum-West                           NaN  \n",
       "3                            Centrum-West                           NaN  \n",
       "4                            Centrum-Oost                           NaN  \n",
       "5                            Centrum-Oost                           NaN  \n",
       "6                            Centrum-West                           NaN  \n",
       "7                            Centrum-West                           NaN  \n",
       "8                            Centrum-Oost                           NaN  \n",
       "9                                    Zuid                           NaN  "
      ]
     },
     "execution_count": 299,
     "metadata": {},
     "output_type": "execute_result"
    }
   ],
   "source": [
    "listings[['neighborhood_overview', 'host_neighbourhood', 'neighbourhood', 'neighbourhood_cleansed', 'neighbourhood_group_cleansed']].head(10)"
   ]
  },
  {
   "cell_type": "markdown",
   "id": "7d28d163",
   "metadata": {},
   "source": [
    "There is a column 'host_neighbourhood' and 'neighborhood_cleansed' that gives the details about the neighbourhood of a listing. Let's check if it has 22 unique values. "
   ]
  },
  {
   "cell_type": "code",
   "execution_count": 300,
   "id": "310e1740",
   "metadata": {},
   "outputs": [
    {
     "data": {
      "text/plain": [
       "60"
      ]
     },
     "execution_count": 300,
     "metadata": {},
     "output_type": "execute_result"
    }
   ],
   "source": [
    "len(listings['host_neighbourhood'].unique())"
   ]
  },
  {
   "cell_type": "code",
   "execution_count": 301,
   "id": "a45590ac",
   "metadata": {},
   "outputs": [
    {
     "data": {
      "text/plain": [
       "22"
      ]
     },
     "execution_count": 301,
     "metadata": {},
     "output_type": "execute_result"
    }
   ],
   "source": [
    "len(listings['neighbourhood_cleansed'].unique())"
   ]
  },
  {
   "cell_type": "markdown",
   "id": "b973a15f",
   "metadata": {},
   "source": [
    "'neighbourhood_cleansed' column seems to be the right column for the details about the neighbourhood of a particular listing. Other columns can be deleted. "
   ]
  },
  {
   "cell_type": "markdown",
   "id": "088d226d",
   "metadata": {},
   "source": [
    "We will use a similar approach to find the right column with the details about the number of bathrooms in a particular listing. "
   ]
  },
  {
   "cell_type": "code",
   "execution_count": 302,
   "id": "6bf81828",
   "metadata": {},
   "outputs": [
    {
     "data": {
      "text/plain": [
       "['bathrooms', 'bathrooms_text']"
      ]
     },
     "execution_count": 302,
     "metadata": {},
     "output_type": "execute_result"
    }
   ],
   "source": [
    "# Looking for other columns with 'bath' in the name\n",
    "\n",
    "[col for col in listings.columns if 'bath' in col]"
   ]
  },
  {
   "cell_type": "code",
   "execution_count": 303,
   "id": "2a39b1cd",
   "metadata": {},
   "outputs": [
    {
     "data": {
      "text/html": [
       "<div>\n",
       "<style scoped>\n",
       "    .dataframe tbody tr th:only-of-type {\n",
       "        vertical-align: middle;\n",
       "    }\n",
       "\n",
       "    .dataframe tbody tr th {\n",
       "        vertical-align: top;\n",
       "    }\n",
       "\n",
       "    .dataframe thead th {\n",
       "        text-align: right;\n",
       "    }\n",
       "</style>\n",
       "<table border=\"1\" class=\"dataframe\">\n",
       "  <thead>\n",
       "    <tr style=\"text-align: right;\">\n",
       "      <th></th>\n",
       "      <th>bathrooms_text</th>\n",
       "    </tr>\n",
       "  </thead>\n",
       "  <tbody>\n",
       "    <tr>\n",
       "      <th>0</th>\n",
       "      <td>1.5 shared baths</td>\n",
       "    </tr>\n",
       "    <tr>\n",
       "      <th>1</th>\n",
       "      <td>1 private bath</td>\n",
       "    </tr>\n",
       "    <tr>\n",
       "      <th>2</th>\n",
       "      <td>1.5 baths</td>\n",
       "    </tr>\n",
       "    <tr>\n",
       "      <th>3</th>\n",
       "      <td>1 shared bath</td>\n",
       "    </tr>\n",
       "    <tr>\n",
       "      <th>4</th>\n",
       "      <td>1 shared bath</td>\n",
       "    </tr>\n",
       "    <tr>\n",
       "      <th>5</th>\n",
       "      <td>1.5 baths</td>\n",
       "    </tr>\n",
       "    <tr>\n",
       "      <th>6</th>\n",
       "      <td>1 bath</td>\n",
       "    </tr>\n",
       "    <tr>\n",
       "      <th>7</th>\n",
       "      <td>1 private bath</td>\n",
       "    </tr>\n",
       "    <tr>\n",
       "      <th>8</th>\n",
       "      <td>1.5 baths</td>\n",
       "    </tr>\n",
       "    <tr>\n",
       "      <th>9</th>\n",
       "      <td>1.5 baths</td>\n",
       "    </tr>\n",
       "  </tbody>\n",
       "</table>\n",
       "</div>"
      ],
      "text/plain": [
       "     bathrooms_text\n",
       "0  1.5 shared baths\n",
       "1    1 private bath\n",
       "2         1.5 baths\n",
       "3     1 shared bath\n",
       "4     1 shared bath\n",
       "5         1.5 baths\n",
       "6            1 bath\n",
       "7    1 private bath\n",
       "8         1.5 baths\n",
       "9         1.5 baths"
      ]
     },
     "execution_count": 303,
     "metadata": {},
     "output_type": "execute_result"
    }
   ],
   "source": [
    "listings[['bathrooms_text']].head(10)"
   ]
  },
  {
   "cell_type": "markdown",
   "id": "bcbbb25a",
   "metadata": {},
   "source": [
    "There is another column 'bathrooms_text' with details about the bathrooms in a listing. We can extract the number of bathrooms from this column. Let's analyse that in a bit more detail."
   ]
  },
  {
   "cell_type": "code",
   "execution_count": 304,
   "id": "3b913ef5",
   "metadata": {},
   "outputs": [
    {
     "data": {
      "text/plain": [
       "array(['1.5 shared baths', '1 private bath', '1.5 baths', '1 shared bath',\n",
       "       '1 bath', '2.5 baths', '3.5 baths', nan, '0 baths',\n",
       "       'Private half-bath', '2 baths', '3 baths', '0 shared baths',\n",
       "       'Half-bath', 'Shared half-bath', '5 baths', '2 shared baths',\n",
       "       '5.5 baths', '4 baths', '4.5 baths', '4 shared baths',\n",
       "       '3 shared baths', '17 baths', '3.5 shared baths'], dtype=object)"
      ]
     },
     "execution_count": 304,
     "metadata": {},
     "output_type": "execute_result"
    }
   ],
   "source": [
    "listings['bathrooms_text'].unique()"
   ]
  },
  {
   "cell_type": "code",
   "execution_count": 305,
   "id": "b200403b",
   "metadata": {},
   "outputs": [
    {
     "data": {
      "text/plain": [
       "dtype('O')"
      ]
     },
     "execution_count": 305,
     "metadata": {},
     "output_type": "execute_result"
    }
   ],
   "source": [
    "listings['bathrooms_text'].dtype"
   ]
  },
  {
   "cell_type": "markdown",
   "id": "c961c588",
   "metadata": {},
   "source": [
    "'bathrooms_text' has a mixture of values from which we will extract the number of bathrooms (numeric). We will ignore the type of the bathroom (shared/private/half) for this analysis. "
   ]
  },
  {
   "cell_type": "code",
   "execution_count": 315,
   "id": "7cfe77f4",
   "metadata": {},
   "outputs": [],
   "source": [
    "listings['bathroom_num']=listings[\"bathrooms_text\"].str.split(\" \", expand=True)[0]"
   ]
  },
  {
   "cell_type": "code",
   "execution_count": 316,
   "id": "bfaa2309",
   "metadata": {},
   "outputs": [
    {
     "data": {
      "text/plain": [
       "array(['1.5', '1', '2.5', '3.5', nan, '0', 'Private', '2', '3',\n",
       "       'Half-bath', 'Shared', '5', '5.5', '4', '4.5', '17'], dtype=object)"
      ]
     },
     "execution_count": 316,
     "metadata": {},
     "output_type": "execute_result"
    }
   ],
   "source": [
    "listings['bathroom_num'].unique()"
   ]
  },
  {
   "cell_type": "code",
   "execution_count": 317,
   "id": "7a7d036f",
   "metadata": {},
   "outputs": [],
   "source": [
    "listings['bathroom_num'] = listings['bathroom_num'].replace(['Private', 'Half-bath', 'Shared'], 0.5)"
   ]
  },
  {
   "cell_type": "code",
   "execution_count": 318,
   "id": "e11a787f",
   "metadata": {},
   "outputs": [],
   "source": [
    "listings['bathroom_num'] = listings['bathroom_num'].astype('float')"
   ]
  },
  {
   "cell_type": "code",
   "execution_count": 319,
   "id": "69e132e4",
   "metadata": {},
   "outputs": [
    {
     "data": {
      "text/plain": [
       "15"
      ]
     },
     "execution_count": 319,
     "metadata": {},
     "output_type": "execute_result"
    }
   ],
   "source": [
    "listings['bathroom_num'].isnull().sum()"
   ]
  },
  {
   "cell_type": "code",
   "execution_count": 320,
   "id": "e7e4e710",
   "metadata": {},
   "outputs": [],
   "source": [
    "def convert_price_float(df, col):\n",
    "    '''\n",
    "    Function to convert the price column from dollars to float\n",
    "    \n",
    "    INPUT:\n",
    "    df - a dataframe\n",
    "    col - a price column in dollars\n",
    "\n",
    "    '''\n",
    "    \n",
    "    df[col] = df[col].replace('[\\$,]', '', regex=True).astype(float)"
   ]
  },
  {
   "cell_type": "code",
   "execution_count": 321,
   "id": "5986fc52",
   "metadata": {},
   "outputs": [],
   "source": [
    "convert_price_float(calendar, 'price')\n",
    "convert_price_float(calendar, 'adjusted_price')\n",
    "convert_price_float(listings, 'price')"
   ]
  },
  {
   "cell_type": "code",
   "execution_count": 322,
   "id": "45d0899a",
   "metadata": {},
   "outputs": [
    {
     "data": {
      "text/plain": [
       "(dtype('float64'), dtype('float64'), dtype('float64'))"
      ]
     },
     "execution_count": 322,
     "metadata": {},
     "output_type": "execute_result"
    }
   ],
   "source": [
    "calendar['price'].dtypes, calendar['adjusted_price'].dtypes, listings['price'].dtypes"
   ]
  },
  {
   "cell_type": "code",
   "execution_count": 323,
   "id": "b93aa187",
   "metadata": {},
   "outputs": [],
   "source": [
    "def convert_to_datetime(df):\n",
    "    \n",
    "    for col in df.columns:\n",
    "        if df[col].dtype == 'object':\n",
    "            try:\n",
    "                df[col] = pd.to_datetime(df[col])\n",
    "            except ValueError:\n",
    "                pass"
   ]
  },
  {
   "cell_type": "code",
   "execution_count": 324,
   "id": "ce87de0d",
   "metadata": {},
   "outputs": [],
   "source": [
    "convert_to_datetime(calendar)"
   ]
  },
  {
   "cell_type": "code",
   "execution_count": 325,
   "id": "1023bbf3",
   "metadata": {},
   "outputs": [],
   "source": [
    "convert_to_datetime(listings)"
   ]
  },
  {
   "cell_type": "code",
   "execution_count": 326,
   "id": "ff9ece37",
   "metadata": {},
   "outputs": [],
   "source": [
    "convert_to_datetime(reviews)"
   ]
  },
  {
   "cell_type": "code",
   "execution_count": 327,
   "id": "d9847579",
   "metadata": {},
   "outputs": [
    {
     "data": {
      "text/plain": [
       "Index(['date'], dtype='object')"
      ]
     },
     "execution_count": 327,
     "metadata": {},
     "output_type": "execute_result"
    }
   ],
   "source": [
    "calendar.select_dtypes(include=['datetime64']).columns"
   ]
  },
  {
   "cell_type": "code",
   "execution_count": 328,
   "id": "7284503f",
   "metadata": {},
   "outputs": [
    {
     "data": {
      "text/plain": [
       "Index(['last_scraped', 'host_since', 'calendar_last_scraped', 'first_review',\n",
       "       'last_review'],\n",
       "      dtype='object')"
      ]
     },
     "execution_count": 328,
     "metadata": {},
     "output_type": "execute_result"
    }
   ],
   "source": [
    "listings.select_dtypes(include=['datetime64']).columns"
   ]
  },
  {
   "cell_type": "code",
   "execution_count": 329,
   "id": "6afd0dc1",
   "metadata": {},
   "outputs": [
    {
     "data": {
      "text/plain": [
       "Index(['date'], dtype='object')"
      ]
     },
     "execution_count": 329,
     "metadata": {},
     "output_type": "execute_result"
    }
   ],
   "source": [
    "reviews.select_dtypes(include=['datetime64']).columns"
   ]
  },
  {
   "cell_type": "code",
   "execution_count": 330,
   "id": "82a79d3b",
   "metadata": {},
   "outputs": [],
   "source": [
    "def find_col_with_value(df, value):\n",
    "    \n",
    "    cols = []\n",
    "    for col in df:\n",
    "        if (df[col] == value).any():\n",
    "             cols.append(col)\n",
    "    return cols"
   ]
  },
  {
   "cell_type": "code",
   "execution_count": 331,
   "id": "d48424bb",
   "metadata": {},
   "outputs": [
    {
     "data": {
      "text/plain": [
       "(['available'], ['available'])"
      ]
     },
     "execution_count": 331,
     "metadata": {},
     "output_type": "execute_result"
    }
   ],
   "source": [
    "find_col_with_value(calendar, 't'), find_col_with_value(calendar, 'f')"
   ]
  },
  {
   "cell_type": "code",
   "execution_count": 332,
   "id": "6ee89eea",
   "metadata": {},
   "outputs": [
    {
     "data": {
      "text/plain": [
       "(['host_is_superhost',\n",
       "  'host_has_profile_pic',\n",
       "  'host_identity_verified',\n",
       "  'has_availability',\n",
       "  'instant_bookable'],\n",
       " ['host_is_superhost',\n",
       "  'host_has_profile_pic',\n",
       "  'host_identity_verified',\n",
       "  'has_availability',\n",
       "  'instant_bookable'])"
      ]
     },
     "execution_count": 332,
     "metadata": {},
     "output_type": "execute_result"
    }
   ],
   "source": [
    "find_col_with_value(listings, 't'), find_col_with_value(listings, 'f')"
   ]
  },
  {
   "cell_type": "code",
   "execution_count": 342,
   "id": "3f89a200",
   "metadata": {},
   "outputs": [],
   "source": [
    "def replace_bool(df, val):\n",
    "    '''\n",
    "    Input:\n",
    "        value: Column (pandas series) of String values consisting of 'f' and 't'\n",
    "    \n",
    "    Replaces 'f' and 't' with 0 and 1 correspondingly\n",
    "    \n",
    "    Output:\n",
    "        Returns a series of intege\n",
    "    '''\n",
    "    \n",
    "    df[val] = df[val].replace('f', 0);\n",
    "    df[val] = df[val].replace('t', 1);\n",
    "    \n"
   ]
  },
  {
   "cell_type": "code",
   "execution_count": 343,
   "id": "91656ce3",
   "metadata": {},
   "outputs": [],
   "source": [
    "bool_columns_listings = ['host_is_superhost', 'host_has_profile_pic', 'host_identity_verified', 'has_availability', 'instant_bookable']"
   ]
  },
  {
   "cell_type": "code",
   "execution_count": 344,
   "id": "2262786f",
   "metadata": {},
   "outputs": [],
   "source": [
    "for col in bool_columns_listings:\n",
    "    replace_bool(listings, col)"
   ]
  },
  {
   "cell_type": "code",
   "execution_count": 350,
   "id": "3a8a8033",
   "metadata": {},
   "outputs": [],
   "source": [
    "replace_bool(calendar, 'available')"
   ]
  },
  {
   "cell_type": "code",
   "execution_count": 355,
   "id": "a5e690f0",
   "metadata": {},
   "outputs": [
    {
     "data": {
      "text/plain": [
       "id                                                0\n",
       "listing_url                                       0\n",
       "scrape_id                                         0\n",
       "last_scraped                                      0\n",
       "source                                            0\n",
       "                                               ... \n",
       "calculated_host_listings_count_entire_homes       0\n",
       "calculated_host_listings_count_private_rooms      0\n",
       "calculated_host_listings_count_shared_rooms       0\n",
       "reviews_per_month                               646\n",
       "bathroom_num                                     15\n",
       "Length: 76, dtype: int64"
      ]
     },
     "execution_count": 355,
     "metadata": {},
     "output_type": "execute_result"
    }
   ],
   "source": [
    "listings.isnull().sum()"
   ]
  },
  {
   "cell_type": "code",
   "execution_count": 359,
   "id": "b307079f",
   "metadata": {},
   "outputs": [
    {
     "data": {
      "text/plain": [
       "array(['within an hour', 'within a few hours', nan, 'within a day',\n",
       "       'a few days or more'], dtype=object)"
      ]
     },
     "execution_count": 359,
     "metadata": {},
     "output_type": "execute_result"
    }
   ],
   "source": [
    "listings.host_response_time.unique()"
   ]
  },
  {
   "cell_type": "code",
   "execution_count": 363,
   "id": "9c5a2dfc",
   "metadata": {},
   "outputs": [
    {
     "data": {
      "text/html": [
       "<div>\n",
       "<style scoped>\n",
       "    .dataframe tbody tr th:only-of-type {\n",
       "        vertical-align: middle;\n",
       "    }\n",
       "\n",
       "    .dataframe tbody tr th {\n",
       "        vertical-align: top;\n",
       "    }\n",
       "\n",
       "    .dataframe thead th {\n",
       "        text-align: right;\n",
       "    }\n",
       "</style>\n",
       "<table border=\"1\" class=\"dataframe\">\n",
       "  <thead>\n",
       "    <tr style=\"text-align: right;\">\n",
       "      <th></th>\n",
       "      <th>a few days or more</th>\n",
       "      <th>within a day</th>\n",
       "      <th>within a few hours</th>\n",
       "      <th>within an hour</th>\n",
       "    </tr>\n",
       "  </thead>\n",
       "  <tbody>\n",
       "    <tr>\n",
       "      <th>0</th>\n",
       "      <td>0</td>\n",
       "      <td>0</td>\n",
       "      <td>0</td>\n",
       "      <td>1</td>\n",
       "    </tr>\n",
       "    <tr>\n",
       "      <th>1</th>\n",
       "      <td>0</td>\n",
       "      <td>0</td>\n",
       "      <td>0</td>\n",
       "      <td>1</td>\n",
       "    </tr>\n",
       "    <tr>\n",
       "      <th>2</th>\n",
       "      <td>0</td>\n",
       "      <td>0</td>\n",
       "      <td>0</td>\n",
       "      <td>1</td>\n",
       "    </tr>\n",
       "    <tr>\n",
       "      <th>3</th>\n",
       "      <td>0</td>\n",
       "      <td>0</td>\n",
       "      <td>0</td>\n",
       "      <td>1</td>\n",
       "    </tr>\n",
       "    <tr>\n",
       "      <th>4</th>\n",
       "      <td>0</td>\n",
       "      <td>0</td>\n",
       "      <td>0</td>\n",
       "      <td>1</td>\n",
       "    </tr>\n",
       "    <tr>\n",
       "      <th>...</th>\n",
       "      <td>...</td>\n",
       "      <td>...</td>\n",
       "      <td>...</td>\n",
       "      <td>...</td>\n",
       "    </tr>\n",
       "    <tr>\n",
       "      <th>6888</th>\n",
       "      <td>0</td>\n",
       "      <td>0</td>\n",
       "      <td>1</td>\n",
       "      <td>0</td>\n",
       "    </tr>\n",
       "    <tr>\n",
       "      <th>6889</th>\n",
       "      <td>0</td>\n",
       "      <td>0</td>\n",
       "      <td>0</td>\n",
       "      <td>1</td>\n",
       "    </tr>\n",
       "    <tr>\n",
       "      <th>6890</th>\n",
       "      <td>0</td>\n",
       "      <td>0</td>\n",
       "      <td>0</td>\n",
       "      <td>1</td>\n",
       "    </tr>\n",
       "    <tr>\n",
       "      <th>6891</th>\n",
       "      <td>1</td>\n",
       "      <td>0</td>\n",
       "      <td>0</td>\n",
       "      <td>0</td>\n",
       "    </tr>\n",
       "    <tr>\n",
       "      <th>6892</th>\n",
       "      <td>0</td>\n",
       "      <td>1</td>\n",
       "      <td>0</td>\n",
       "      <td>0</td>\n",
       "    </tr>\n",
       "  </tbody>\n",
       "</table>\n",
       "<p>6893 rows × 4 columns</p>\n",
       "</div>"
      ],
      "text/plain": [
       "      a few days or more  within a day  within a few hours  within an hour\n",
       "0                      0             0                   0               1\n",
       "1                      0             0                   0               1\n",
       "2                      0             0                   0               1\n",
       "3                      0             0                   0               1\n",
       "4                      0             0                   0               1\n",
       "...                  ...           ...                 ...             ...\n",
       "6888                   0             0                   1               0\n",
       "6889                   0             0                   0               1\n",
       "6890                   0             0                   0               1\n",
       "6891                   1             0                   0               0\n",
       "6892                   0             1                   0               0\n",
       "\n",
       "[6893 rows x 4 columns]"
      ]
     },
     "execution_count": 363,
     "metadata": {},
     "output_type": "execute_result"
    }
   ],
   "source": [
    "pd.get_dummies(listings['host_response_time'])"
   ]
  },
  {
   "cell_type": "code",
   "execution_count": 380,
   "id": "0b176200",
   "metadata": {},
   "outputs": [
    {
     "data": {
      "text/plain": [
       "Index(['listing_url', 'source', 'name', 'description', 'neighborhood_overview',\n",
       "       'picture_url', 'host_url', 'host_name', 'host_location', 'host_about',\n",
       "       'host_response_time', 'host_response_rate', 'host_acceptance_rate',\n",
       "       'host_thumbnail_url', 'host_picture_url', 'host_neighbourhood',\n",
       "       'host_verifications', 'neighbourhood', 'neighbourhood_cleansed',\n",
       "       'property_type', 'room_type', 'bathrooms_text', 'amenities', 'license'],\n",
       "      dtype='object')"
      ]
     },
     "execution_count": 380,
     "metadata": {},
     "output_type": "execute_result"
    }
   ],
   "source": [
    "listings.select_dtypes('object').columns"
   ]
  },
  {
   "cell_type": "code",
   "execution_count": 384,
   "id": "7ee45744",
   "metadata": {},
   "outputs": [
    {
     "data": {
      "text/plain": [
       "['host_response_rate', 'host_acceptance_rate']"
      ]
     },
     "execution_count": 384,
     "metadata": {},
     "output_type": "execute_result"
    }
   ],
   "source": [
    "[col for col in listings.columns if 'rate' in col]"
   ]
  },
  {
   "cell_type": "code",
   "execution_count": 385,
   "id": "66a76fe1",
   "metadata": {},
   "outputs": [],
   "source": [
    "def convert_perc_float(df, col):\n",
    "    '''\n",
    "    Function to convert the price column from dollars to float\n",
    "    \n",
    "    INPUT:\n",
    "    df - a dataframe\n",
    "    col - a price column in dollars\n",
    "\n",
    "    '''\n",
    "    \n",
    "    df[col] = df[col].replace('[\\%,]', '', regex=True).astype(float)"
   ]
  },
  {
   "cell_type": "code",
   "execution_count": 386,
   "id": "2e80bebb",
   "metadata": {},
   "outputs": [],
   "source": [
    "convert_perc_float(listings, 'host_response_rate')"
   ]
  },
  {
   "cell_type": "code",
   "execution_count": 388,
   "id": "525cf372",
   "metadata": {},
   "outputs": [],
   "source": [
    "convert_perc_float(listings, 'host_acceptance_rate')"
   ]
  },
  {
   "cell_type": "code",
   "execution_count": null,
   "id": "d1d680d7",
   "metadata": {},
   "outputs": [],
   "source": []
  }
 ],
 "metadata": {
  "kernelspec": {
   "display_name": "Python [conda env:myDSenv] *",
   "language": "python",
   "name": "conda-env-myDSenv-py"
  },
  "language_info": {
   "codemirror_mode": {
    "name": "ipython",
    "version": 3
   },
   "file_extension": ".py",
   "mimetype": "text/x-python",
   "name": "python",
   "nbconvert_exporter": "python",
   "pygments_lexer": "ipython3",
   "version": "3.9.7"
  }
 },
 "nbformat": 4,
 "nbformat_minor": 5
}
