{
 "cells": [
  {
   "cell_type": "markdown",
   "id": "0ae5f2f1",
   "metadata": {},
   "source": [
    "# Near Term Energy Demand Forecasting"
   ]
  },
  {
   "cell_type": "markdown",
   "id": "34f773ea",
   "metadata": {},
   "source": [
    "## Introduction\n",
    "\n",
    "In this project, we will\n",
    "\n",
    "- Project Overview\n",
    "\n",
    "- Problem Statement\n",
    "\n",
    "- Metrics\n"
   ]
  },
  {
   "cell_type": "code",
   "execution_count": 1,
   "id": "e3a3caee",
   "metadata": {},
   "outputs": [],
   "source": [
    "# Importing Libraries\n",
    "\n",
    "# Importing Libraries\n",
    "\n",
    "import numpy as np\n",
    "import pandas as pd\n",
    "import matplotlib.pyplot as plt\n",
    "import seaborn as sns\n",
    "import missingno as msno \n",
    "import datetime as dt\n",
    "from sklearn.preprocessing import MultiLabelBinarizer\n",
    "from sklearn.model_selection import train_test_split\n",
    "from sklearn.linear_model import LinearRegression\n",
    "from sklearn.metrics import r2_score, mean_squared_error\n",
    "\n",
    "# Render figures directly in the notebook:\n",
    "%matplotlib inline\n",
    "\n",
    "# Render higher resolution images:\n",
    "%config InlineBackend.figure_format = 'retina'\n",
    "\n",
    "pd.set_option('display.max_rows', 500)"
   ]
  },
  {
   "cell_type": "markdown",
   "id": "3076d3f4",
   "metadata": {},
   "source": [
    "## 1. Data Exploration and Cleaning"
   ]
  },
  {
   "cell_type": "code",
   "execution_count": 2,
   "id": "f828cc39",
   "metadata": {},
   "outputs": [],
   "source": [
    "# Reading the datasets\n",
    "\n",
    "data_energy = pd.read_csv('../data/energy_dataset.csv', index_col=[0], parse_dates=True)\n",
    "data_weather = pd.read_csv('../data/weather_features.csv', index_col=[0], parse_dates=True)"
   ]
  },
  {
   "cell_type": "code",
   "execution_count": 3,
   "id": "bc7adbba",
   "metadata": {},
   "outputs": [
    {
     "data": {
      "text/plain": [
       "Index(['generation biomass', 'generation fossil brown coal/lignite',\n",
       "       'generation fossil coal-derived gas', 'generation fossil gas',\n",
       "       'generation fossil hard coal', 'generation fossil oil',\n",
       "       'generation fossil oil shale', 'generation fossil peat',\n",
       "       'generation geothermal', 'generation hydro pumped storage aggregated',\n",
       "       'generation hydro pumped storage consumption',\n",
       "       'generation hydro run-of-river and poundage',\n",
       "       'generation hydro water reservoir', 'generation marine',\n",
       "       'generation nuclear', 'generation other', 'generation other renewable',\n",
       "       'generation solar', 'generation waste', 'generation wind offshore',\n",
       "       'generation wind onshore', 'forecast solar day ahead',\n",
       "       'forecast wind offshore eday ahead', 'forecast wind onshore day ahead',\n",
       "       'total load forecast', 'total load actual', 'price day ahead',\n",
       "       'price actual'],\n",
       "      dtype='object')"
      ]
     },
     "execution_count": 3,
     "metadata": {},
     "output_type": "execute_result"
    }
   ],
   "source": [
    "data_energy.columns"
   ]
  },
  {
   "cell_type": "markdown",
   "id": "1ca1ca77",
   "metadata": {},
   "source": [
    "> We are interested only in forecasting the total demand. Hence we will keep only the columns - `total load forecast` and     `total load actual` and remove the rest. "
   ]
  },
  {
   "cell_type": "code",
   "execution_count": 4,
   "id": "ff314c35",
   "metadata": {},
   "outputs": [],
   "source": [
    "# Filtering target columns\n",
    "\n",
    "df = data_energy[['total load forecast', 'total load actual']]"
   ]
  },
  {
   "cell_type": "markdown",
   "id": "a4a065d3",
   "metadata": {},
   "source": [
    "### 1.1 Energy Dataset"
   ]
  },
  {
   "cell_type": "code",
   "execution_count": 5,
   "id": "8fd2954f",
   "metadata": {},
   "outputs": [
    {
     "data": {
      "text/html": [
       "<div>\n",
       "<style scoped>\n",
       "    .dataframe tbody tr th:only-of-type {\n",
       "        vertical-align: middle;\n",
       "    }\n",
       "\n",
       "    .dataframe tbody tr th {\n",
       "        vertical-align: top;\n",
       "    }\n",
       "\n",
       "    .dataframe thead th {\n",
       "        text-align: right;\n",
       "    }\n",
       "</style>\n",
       "<table border=\"1\" class=\"dataframe\">\n",
       "  <thead>\n",
       "    <tr style=\"text-align: right;\">\n",
       "      <th></th>\n",
       "      <th>total load forecast</th>\n",
       "      <th>total load actual</th>\n",
       "    </tr>\n",
       "    <tr>\n",
       "      <th>time</th>\n",
       "      <th></th>\n",
       "      <th></th>\n",
       "    </tr>\n",
       "  </thead>\n",
       "  <tbody>\n",
       "    <tr>\n",
       "      <th>2015-01-01 00:00:00+01:00</th>\n",
       "      <td>26118.0</td>\n",
       "      <td>25385.0</td>\n",
       "    </tr>\n",
       "    <tr>\n",
       "      <th>2015-01-01 01:00:00+01:00</th>\n",
       "      <td>24934.0</td>\n",
       "      <td>24382.0</td>\n",
       "    </tr>\n",
       "    <tr>\n",
       "      <th>2015-01-01 02:00:00+01:00</th>\n",
       "      <td>23515.0</td>\n",
       "      <td>22734.0</td>\n",
       "    </tr>\n",
       "    <tr>\n",
       "      <th>2015-01-01 03:00:00+01:00</th>\n",
       "      <td>22642.0</td>\n",
       "      <td>21286.0</td>\n",
       "    </tr>\n",
       "    <tr>\n",
       "      <th>2015-01-01 04:00:00+01:00</th>\n",
       "      <td>21785.0</td>\n",
       "      <td>20264.0</td>\n",
       "    </tr>\n",
       "    <tr>\n",
       "      <th>2015-01-01 05:00:00+01:00</th>\n",
       "      <td>21441.0</td>\n",
       "      <td>19905.0</td>\n",
       "    </tr>\n",
       "    <tr>\n",
       "      <th>2015-01-01 06:00:00+01:00</th>\n",
       "      <td>21285.0</td>\n",
       "      <td>20010.0</td>\n",
       "    </tr>\n",
       "    <tr>\n",
       "      <th>2015-01-01 07:00:00+01:00</th>\n",
       "      <td>21545.0</td>\n",
       "      <td>20377.0</td>\n",
       "    </tr>\n",
       "    <tr>\n",
       "      <th>2015-01-01 08:00:00+01:00</th>\n",
       "      <td>21443.0</td>\n",
       "      <td>20094.0</td>\n",
       "    </tr>\n",
       "    <tr>\n",
       "      <th>2015-01-01 09:00:00+01:00</th>\n",
       "      <td>21560.0</td>\n",
       "      <td>20637.0</td>\n",
       "    </tr>\n",
       "  </tbody>\n",
       "</table>\n",
       "</div>"
      ],
      "text/plain": [
       "                           total load forecast  total load actual\n",
       "time                                                             \n",
       "2015-01-01 00:00:00+01:00              26118.0            25385.0\n",
       "2015-01-01 01:00:00+01:00              24934.0            24382.0\n",
       "2015-01-01 02:00:00+01:00              23515.0            22734.0\n",
       "2015-01-01 03:00:00+01:00              22642.0            21286.0\n",
       "2015-01-01 04:00:00+01:00              21785.0            20264.0\n",
       "2015-01-01 05:00:00+01:00              21441.0            19905.0\n",
       "2015-01-01 06:00:00+01:00              21285.0            20010.0\n",
       "2015-01-01 07:00:00+01:00              21545.0            20377.0\n",
       "2015-01-01 08:00:00+01:00              21443.0            20094.0\n",
       "2015-01-01 09:00:00+01:00              21560.0            20637.0"
      ]
     },
     "execution_count": 5,
     "metadata": {},
     "output_type": "execute_result"
    }
   ],
   "source": [
    "df.head(10)"
   ]
  },
  {
   "cell_type": "code",
   "execution_count": 6,
   "id": "e10e1d45",
   "metadata": {},
   "outputs": [
    {
     "name": "stdout",
     "output_type": "stream",
     "text": [
      "<class 'pandas.core.frame.DataFrame'>\n",
      "Index: 35064 entries, 2015-01-01 00:00:00+01:00 to 2018-12-31 23:00:00+01:00\n",
      "Data columns (total 2 columns):\n",
      " #   Column               Non-Null Count  Dtype  \n",
      "---  ------               --------------  -----  \n",
      " 0   total load forecast  35064 non-null  float64\n",
      " 1   total load actual    35028 non-null  float64\n",
      "dtypes: float64(2)\n",
      "memory usage: 821.8+ KB\n"
     ]
    }
   ],
   "source": [
    "# Checking the dataframe\n",
    "\n",
    "df.info()"
   ]
  },
  {
   "cell_type": "markdown",
   "id": "6bf56873",
   "metadata": {},
   "source": [
    "> Both the columns `total load forecast` and `total load actual` are of type `float64` and no datatype conversions are necessary. "
   ]
  },
  {
   "cell_type": "code",
   "execution_count": 7,
   "id": "01817286",
   "metadata": {},
   "outputs": [
    {
     "data": {
      "text/html": [
       "<div>\n",
       "<style scoped>\n",
       "    .dataframe tbody tr th:only-of-type {\n",
       "        vertical-align: middle;\n",
       "    }\n",
       "\n",
       "    .dataframe tbody tr th {\n",
       "        vertical-align: top;\n",
       "    }\n",
       "\n",
       "    .dataframe thead th {\n",
       "        text-align: right;\n",
       "    }\n",
       "</style>\n",
       "<table border=\"1\" class=\"dataframe\">\n",
       "  <thead>\n",
       "    <tr style=\"text-align: right;\">\n",
       "      <th></th>\n",
       "      <th>total load forecast</th>\n",
       "      <th>total load actual</th>\n",
       "    </tr>\n",
       "  </thead>\n",
       "  <tbody>\n",
       "    <tr>\n",
       "      <th>count</th>\n",
       "      <td>35064.000000</td>\n",
       "      <td>35028.000000</td>\n",
       "    </tr>\n",
       "    <tr>\n",
       "      <th>mean</th>\n",
       "      <td>28712.129962</td>\n",
       "      <td>28696.939905</td>\n",
       "    </tr>\n",
       "    <tr>\n",
       "      <th>std</th>\n",
       "      <td>4594.100854</td>\n",
       "      <td>4574.987950</td>\n",
       "    </tr>\n",
       "    <tr>\n",
       "      <th>min</th>\n",
       "      <td>18105.000000</td>\n",
       "      <td>18041.000000</td>\n",
       "    </tr>\n",
       "    <tr>\n",
       "      <th>25%</th>\n",
       "      <td>24793.750000</td>\n",
       "      <td>24807.750000</td>\n",
       "    </tr>\n",
       "    <tr>\n",
       "      <th>50%</th>\n",
       "      <td>28906.000000</td>\n",
       "      <td>28901.000000</td>\n",
       "    </tr>\n",
       "    <tr>\n",
       "      <th>75%</th>\n",
       "      <td>32263.250000</td>\n",
       "      <td>32192.000000</td>\n",
       "    </tr>\n",
       "    <tr>\n",
       "      <th>max</th>\n",
       "      <td>41390.000000</td>\n",
       "      <td>41015.000000</td>\n",
       "    </tr>\n",
       "  </tbody>\n",
       "</table>\n",
       "</div>"
      ],
      "text/plain": [
       "       total load forecast  total load actual\n",
       "count         35064.000000       35028.000000\n",
       "mean          28712.129962       28696.939905\n",
       "std            4594.100854        4574.987950\n",
       "min           18105.000000       18041.000000\n",
       "25%           24793.750000       24807.750000\n",
       "50%           28906.000000       28901.000000\n",
       "75%           32263.250000       32192.000000\n",
       "max           41390.000000       41015.000000"
      ]
     },
     "execution_count": 7,
     "metadata": {},
     "output_type": "execute_result"
    }
   ],
   "source": [
    "df.describe()"
   ]
  },
  {
   "cell_type": "code",
   "execution_count": 8,
   "id": "d81d94a1",
   "metadata": {},
   "outputs": [],
   "source": [
    "# Checking for missing values\n",
    "\n",
    "def find_missing_cols_perc(df, perc):\n",
    "    '''\n",
    "    Function to print a list a columns in a dataframe with missing values\n",
    "    \n",
    "    Arguments:\n",
    "    df - dataframe\n",
    "    perc - percentage of missing values\n",
    "    \n",
    "    Prints:\n",
    "    List of columns with percentage of missing data greater than 'perc'\n",
    "    \n",
    "    '''\n",
    "    print(df.columns[df.isnull().mean() > perc])"
   ]
  },
  {
   "cell_type": "code",
   "execution_count": 9,
   "id": "0bc99d04",
   "metadata": {},
   "outputs": [
    {
     "name": "stdout",
     "output_type": "stream",
     "text": [
      "Index(['total load actual'], dtype='object')\n",
      "Index([], dtype='object')\n"
     ]
    },
    {
     "data": {
      "text/plain": [
       "(None, None)"
      ]
     },
     "execution_count": 9,
     "metadata": {},
     "output_type": "execute_result"
    }
   ],
   "source": [
    "find_missing_cols_perc(df, 0), find_missing_cols_perc(df, 0.5)"
   ]
  },
  {
   "cell_type": "markdown",
   "id": "843681da",
   "metadata": {},
   "source": [
    "> There are a few missing values in the column `total load actual`."
   ]
  },
  {
   "cell_type": "markdown",
   "id": "01361583",
   "metadata": {},
   "source": [
    "### 1.2 Weather Dataset"
   ]
  },
  {
   "cell_type": "code",
   "execution_count": 19,
   "id": "6deae898",
   "metadata": {},
   "outputs": [
    {
     "data": {
      "text/html": [
       "<div>\n",
       "<style scoped>\n",
       "    .dataframe tbody tr th:only-of-type {\n",
       "        vertical-align: middle;\n",
       "    }\n",
       "\n",
       "    .dataframe tbody tr th {\n",
       "        vertical-align: top;\n",
       "    }\n",
       "\n",
       "    .dataframe thead th {\n",
       "        text-align: right;\n",
       "    }\n",
       "</style>\n",
       "<table border=\"1\" class=\"dataframe\">\n",
       "  <thead>\n",
       "    <tr style=\"text-align: right;\">\n",
       "      <th></th>\n",
       "      <th>city_name</th>\n",
       "      <th>temp</th>\n",
       "      <th>temp_min</th>\n",
       "      <th>temp_max</th>\n",
       "      <th>pressure</th>\n",
       "      <th>humidity</th>\n",
       "      <th>wind_speed</th>\n",
       "      <th>wind_deg</th>\n",
       "      <th>rain_1h</th>\n",
       "      <th>rain_3h</th>\n",
       "      <th>snow_3h</th>\n",
       "      <th>clouds_all</th>\n",
       "      <th>weather_id</th>\n",
       "      <th>weather_main</th>\n",
       "      <th>weather_description</th>\n",
       "      <th>weather_icon</th>\n",
       "    </tr>\n",
       "    <tr>\n",
       "      <th>dt_iso</th>\n",
       "      <th></th>\n",
       "      <th></th>\n",
       "      <th></th>\n",
       "      <th></th>\n",
       "      <th></th>\n",
       "      <th></th>\n",
       "      <th></th>\n",
       "      <th></th>\n",
       "      <th></th>\n",
       "      <th></th>\n",
       "      <th></th>\n",
       "      <th></th>\n",
       "      <th></th>\n",
       "      <th></th>\n",
       "      <th></th>\n",
       "      <th></th>\n",
       "    </tr>\n",
       "  </thead>\n",
       "  <tbody>\n",
       "    <tr>\n",
       "      <th>2015-01-01 00:00:00+01:00</th>\n",
       "      <td>Valencia</td>\n",
       "      <td>270.475</td>\n",
       "      <td>270.475</td>\n",
       "      <td>270.475</td>\n",
       "      <td>1001</td>\n",
       "      <td>77</td>\n",
       "      <td>1</td>\n",
       "      <td>62</td>\n",
       "      <td>0.0</td>\n",
       "      <td>0.0</td>\n",
       "      <td>0.0</td>\n",
       "      <td>0</td>\n",
       "      <td>800</td>\n",
       "      <td>clear</td>\n",
       "      <td>sky is clear</td>\n",
       "      <td>01n</td>\n",
       "    </tr>\n",
       "    <tr>\n",
       "      <th>2015-01-01 01:00:00+01:00</th>\n",
       "      <td>Valencia</td>\n",
       "      <td>270.475</td>\n",
       "      <td>270.475</td>\n",
       "      <td>270.475</td>\n",
       "      <td>1001</td>\n",
       "      <td>77</td>\n",
       "      <td>1</td>\n",
       "      <td>62</td>\n",
       "      <td>0.0</td>\n",
       "      <td>0.0</td>\n",
       "      <td>0.0</td>\n",
       "      <td>0</td>\n",
       "      <td>800</td>\n",
       "      <td>clear</td>\n",
       "      <td>sky is clear</td>\n",
       "      <td>01n</td>\n",
       "    </tr>\n",
       "    <tr>\n",
       "      <th>2015-01-01 02:00:00+01:00</th>\n",
       "      <td>Valencia</td>\n",
       "      <td>269.686</td>\n",
       "      <td>269.686</td>\n",
       "      <td>269.686</td>\n",
       "      <td>1002</td>\n",
       "      <td>78</td>\n",
       "      <td>0</td>\n",
       "      <td>23</td>\n",
       "      <td>0.0</td>\n",
       "      <td>0.0</td>\n",
       "      <td>0.0</td>\n",
       "      <td>0</td>\n",
       "      <td>800</td>\n",
       "      <td>clear</td>\n",
       "      <td>sky is clear</td>\n",
       "      <td>01n</td>\n",
       "    </tr>\n",
       "    <tr>\n",
       "      <th>2015-01-01 03:00:00+01:00</th>\n",
       "      <td>Valencia</td>\n",
       "      <td>269.686</td>\n",
       "      <td>269.686</td>\n",
       "      <td>269.686</td>\n",
       "      <td>1002</td>\n",
       "      <td>78</td>\n",
       "      <td>0</td>\n",
       "      <td>23</td>\n",
       "      <td>0.0</td>\n",
       "      <td>0.0</td>\n",
       "      <td>0.0</td>\n",
       "      <td>0</td>\n",
       "      <td>800</td>\n",
       "      <td>clear</td>\n",
       "      <td>sky is clear</td>\n",
       "      <td>01n</td>\n",
       "    </tr>\n",
       "    <tr>\n",
       "      <th>2015-01-01 04:00:00+01:00</th>\n",
       "      <td>Valencia</td>\n",
       "      <td>269.686</td>\n",
       "      <td>269.686</td>\n",
       "      <td>269.686</td>\n",
       "      <td>1002</td>\n",
       "      <td>78</td>\n",
       "      <td>0</td>\n",
       "      <td>23</td>\n",
       "      <td>0.0</td>\n",
       "      <td>0.0</td>\n",
       "      <td>0.0</td>\n",
       "      <td>0</td>\n",
       "      <td>800</td>\n",
       "      <td>clear</td>\n",
       "      <td>sky is clear</td>\n",
       "      <td>01n</td>\n",
       "    </tr>\n",
       "  </tbody>\n",
       "</table>\n",
       "</div>"
      ],
      "text/plain": [
       "                          city_name     temp  temp_min  temp_max  pressure  \\\n",
       "dt_iso                                                                       \n",
       "2015-01-01 00:00:00+01:00  Valencia  270.475   270.475   270.475      1001   \n",
       "2015-01-01 01:00:00+01:00  Valencia  270.475   270.475   270.475      1001   \n",
       "2015-01-01 02:00:00+01:00  Valencia  269.686   269.686   269.686      1002   \n",
       "2015-01-01 03:00:00+01:00  Valencia  269.686   269.686   269.686      1002   \n",
       "2015-01-01 04:00:00+01:00  Valencia  269.686   269.686   269.686      1002   \n",
       "\n",
       "                           humidity  wind_speed  wind_deg  rain_1h  rain_3h  \\\n",
       "dt_iso                                                                        \n",
       "2015-01-01 00:00:00+01:00        77           1        62      0.0      0.0   \n",
       "2015-01-01 01:00:00+01:00        77           1        62      0.0      0.0   \n",
       "2015-01-01 02:00:00+01:00        78           0        23      0.0      0.0   \n",
       "2015-01-01 03:00:00+01:00        78           0        23      0.0      0.0   \n",
       "2015-01-01 04:00:00+01:00        78           0        23      0.0      0.0   \n",
       "\n",
       "                           snow_3h  clouds_all  weather_id weather_main  \\\n",
       "dt_iso                                                                    \n",
       "2015-01-01 00:00:00+01:00      0.0           0         800        clear   \n",
       "2015-01-01 01:00:00+01:00      0.0           0         800        clear   \n",
       "2015-01-01 02:00:00+01:00      0.0           0         800        clear   \n",
       "2015-01-01 03:00:00+01:00      0.0           0         800        clear   \n",
       "2015-01-01 04:00:00+01:00      0.0           0         800        clear   \n",
       "\n",
       "                          weather_description weather_icon  \n",
       "dt_iso                                                      \n",
       "2015-01-01 00:00:00+01:00        sky is clear          01n  \n",
       "2015-01-01 01:00:00+01:00        sky is clear          01n  \n",
       "2015-01-01 02:00:00+01:00        sky is clear          01n  \n",
       "2015-01-01 03:00:00+01:00        sky is clear          01n  \n",
       "2015-01-01 04:00:00+01:00        sky is clear          01n  "
      ]
     },
     "execution_count": 19,
     "metadata": {},
     "output_type": "execute_result"
    }
   ],
   "source": [
    "data_weather.head(5)"
   ]
  },
  {
   "cell_type": "code",
   "execution_count": null,
   "id": "e603dc71",
   "metadata": {},
   "outputs": [],
   "source": []
  },
  {
   "cell_type": "code",
   "execution_count": null,
   "id": "5a371909",
   "metadata": {},
   "outputs": [],
   "source": []
  }
 ],
 "metadata": {
  "kernelspec": {
   "display_name": "Python [conda env:myDSenv] *",
   "language": "python",
   "name": "conda-env-myDSenv-py"
  },
  "language_info": {
   "codemirror_mode": {
    "name": "ipython",
    "version": 3
   },
   "file_extension": ".py",
   "mimetype": "text/x-python",
   "name": "python",
   "nbconvert_exporter": "python",
   "pygments_lexer": "ipython3",
   "version": "3.9.7"
  }
 },
 "nbformat": 4,
 "nbformat_minor": 5
}
